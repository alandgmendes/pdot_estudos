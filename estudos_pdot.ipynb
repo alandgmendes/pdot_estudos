{
  "nbformat": 4,
  "nbformat_minor": 0,
  "metadata": {
    "colab": {
      "provenance": [],
      "authorship_tag": "ABX9TyMlfvxJSALfpDPoPnZFraRN",
      "include_colab_link": true
    },
    "kernelspec": {
      "name": "python3",
      "display_name": "Python 3"
    },
    "language_info": {
      "name": "python"
    }
  },
  "cells": [
    {
      "cell_type": "markdown",
      "metadata": {
        "id": "view-in-github",
        "colab_type": "text"
      },
      "source": [
        "<a href=\"https://colab.research.google.com/github/alandgmendes/pdot_estudos/blob/main/estudos_pdot.ipynb\" target=\"_parent\"><img src=\"https://colab.research.google.com/assets/colab-badge.svg\" alt=\"Open In Colab\"/></a>"
      ]
    },
    {
      "cell_type": "code",
      "execution_count": 17,
      "metadata": {
        "colab": {
          "base_uri": "https://localhost:8080/"
        },
        "id": "NAE7vmXifMKH",
        "outputId": "6957525e-6e2c-4637-e00f-0a1106598037"
      },
      "outputs": [
        {
          "output_type": "stream",
          "name": "stdout",
          "text": [
            "PDF baixado com sucesso!\n"
          ]
        }
      ],
      "source": [
        "import requests\n",
        "from urllib.parse import quote\n",
        "\n",
        "pdf_url = \"https://presidenteolegario.mg.gov.br/uploads/files/files/2636/original/LEI COMPLEMENTAR Nº 094 de 27 de julho 2020- Aprova o Plano Diretor do Município de Presidente Olegário_Anexos.pdf\"\n",
        "\n",
        "# Adicionar cabeçalhos para simular uma solicitação de navegador\n",
        "headers = {\n",
        "    'User-Agent': 'Mozilla/5.0 (Windows NT 10.0; Win64; x64) AppleWebKit/537.36 (KHTML, like Gecko) Chrome/58.0.3029.110 Safari/537.3',\n",
        "    'Accept': 'text/html,application/xhtml+xml,application/xml;q=0.9,image/webp,image/apng,*/*;q=0.8'\n",
        "}\n",
        "\n",
        "# Faça o pedido para obter o conteúdo do PDF\n",
        "response = requests.get(pdf_url, headers=headers)\n",
        "\n",
        "if response.status_code == 200:\n",
        "    with open(\"ANEXOS_DO_PLANO_DIRETOR.pdf\", \"wb\") as pdf_file:\n",
        "        pdf_file.write(response.content)\n",
        "    print(\"PDF baixado com sucesso!\")\n",
        "else:\n",
        "    print(f\"Falha ao baixar o PDF. Código de status: {response.status_code}\")\n",
        "    print(f\"Mensagem: {response.text}\")\n"
      ]
    },
    {
      "cell_type": "code",
      "source": [
        "!pip install beautifulsoup4"
      ],
      "metadata": {
        "colab": {
          "base_uri": "https://localhost:8080/"
        },
        "id": "8x8fiWKoqiF0",
        "outputId": "e6afa404-ab92-4cd2-d187-8a9a72dd42a3"
      },
      "execution_count": 7,
      "outputs": [
        {
          "output_type": "stream",
          "name": "stdout",
          "text": [
            "Requirement already satisfied: beautifulsoup4 in /usr/local/lib/python3.10/dist-packages (4.11.2)\n",
            "Requirement already satisfied: soupsieve>1.2 in /usr/local/lib/python3.10/dist-packages (from beautifulsoup4) (2.5)\n"
          ]
        }
      ]
    },
    {
      "cell_type": "code",
      "source": [
        "from bs4 import BeautifulSoup\n",
        "from urllib.parse import quote\n",
        "\n",
        "html_content = '<div class=\"col-btn\"><a href=\"https://presidenteolegario.mg.gov.br/uploads/files/files/2142/original/LEI COMPLEMENTAR Nº 094 de 27 de julho 2020- Aprova o Plano Diretor do Município de Presidente Olegário.pdf\" target=\"_BLANK\" class=\"button\" data-jzz-gui-player=\"true\">LEI COMPLEMENTAR Nº 094 DE 27 DE JULHO DE 2020.  Aprova o Plano Diretor do Município de Presidente Olegário.</a></div>'\n",
        "\n",
        "# Criar um objeto BeautifulSoup\n",
        "soup = BeautifulSoup(html_content, 'html.parser')\n",
        "\n",
        "# Encontrar a tag <a> e extrair o atributo href\n",
        "raw_link = soup.find('a')['href']\n",
        "\n",
        "# Corrigir espaços na URL\n",
        "corrected_link = quote(raw_link, safe='/:')\n",
        "\n",
        "# Imprimir o link corrigido\n",
        "print(f'eis o link: {corrected_link}')"
      ],
      "metadata": {
        "colab": {
          "base_uri": "https://localhost:8080/"
        },
        "id": "jt6rLuljqioO",
        "outputId": "3d67fe3b-bfe1-4cd2-ca3f-d197a1e7fc65"
      },
      "execution_count": 11,
      "outputs": [
        {
          "output_type": "stream",
          "name": "stdout",
          "text": [
            "eis o link: https://presidenteolegario.mg.gov.br/uploads/files/files/2142/original/LEI%20COMPLEMENTAR%20N%C2%BA%20094%20de%2027%20de%20julho%202020-%20Aprova%20o%20Plano%20Diretor%20do%20Munic%C3%ADpio%20de%20Presidente%20Oleg%C3%A1rio.pdf\n"
          ]
        }
      ]
    },
    {
      "cell_type": "markdown",
      "source": [
        "https://presidenteolegario.mg.gov.br/uploads/files/files/5147/original/DECRETO%20N%C2%BA%201605%20DE%2030%20DE%20MAR%C3%87O%20DE%202023.pdf\n",
        "\n",
        "https://presidenteolegario.mg.gov.br/uploads/files/files/2636/original/LEI%20COMPLEMENTAR%20N%C2%BA%20094%20de%2027%20de%20julho%202020-%20Aprova%20o%20Plano%20Diretor%20do%20Munic%C3%ADpio%20de%20Presidente%20Oleg%C3%A1rio_Anexos.pdf"
      ],
      "metadata": {
        "id": "DQkk0ok5rBHD"
      }
    },
    {
      "cell_type": "code",
      "source": [],
      "metadata": {
        "id": "BH_sS6W3rAnS"
      },
      "execution_count": null,
      "outputs": []
    }
  ]
}